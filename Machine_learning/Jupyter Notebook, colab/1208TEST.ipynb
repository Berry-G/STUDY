{
  "nbformat": 4,
  "nbformat_minor": 0,
  "metadata": {
    "colab": {
      "provenance": [],
      "authorship_tag": "ABX9TyPNXWfil0ajtyUThi5zXX19",
      "include_colab_link": true
    },
    "kernelspec": {
      "name": "python3",
      "display_name": "Python 3"
    },
    "language_info": {
      "name": "python"
    }
  },
  "cells": [
    {
      "cell_type": "markdown",
      "metadata": {
        "id": "view-in-github",
        "colab_type": "text"
      },
      "source": [
        "<a href=\"https://colab.research.google.com/github/Berry-G/STUDY/blob/main/Machine_learning/Jupyter%20Notebook%2C%20colab/1208TEST.ipynb\" target=\"_parent\"><img src=\"https://colab.research.google.com/assets/colab-badge.svg\" alt=\"Open In Colab\"/></a>"
      ]
    },
    {
      "cell_type": "code",
      "execution_count": null,
      "metadata": {
        "colab": {
          "base_uri": "https://localhost:8080/",
          "height": 108
        },
        "id": "1PMW7hTrRMfX",
        "outputId": "8eeddfc3-b1f1-47c1-d496-de46fb7d5c50"
      },
      "outputs": [
        {
          "output_type": "execute_result",
          "data": {
            "text/plain": [
              "'\\n1. 아래 문자열의 길이를 구하시오.\\n    q1 = \"fjdldionelamdmsd\\'1322qdmfgvfvc\\'xv-=dfdfdsf\"\\n2. 화면에 기호 * 100개를 표시하시오.\\n3. 문자열 \"30\"을 각각 정수형, 실수형, 복소수형, 문자형으로 변환하시오.\\n4. 다음 문자열 \"Niceyear\"에서 \"year\" 문자열만 추출하시오.\\n    str = \"Niceyear\"\\n5. 다음 문자열을 거꾸로 출력하시오.\\n    str = \"Strawberry\"\\n6. 다음 문자열에서 \\'-\\'을 제거 후 출력하시오.\\n    phoneNumber = \"010-5555-9999\"\\n7. 다음 문자열(URL)에서 \"http://\" 부분을 제거 후 출력하시오.\\n  url = \"http://ezenac.co.kr\"\\n8. 다음 문자열을 모두 대문자, 소문자로 각각 출력해 보시오.\\n  str = \"NiceYear\"\\n9. 다음 문자열을 슬라이싱을 이용해서 \"cde\"만 출력하시오.\\n  str = \"abcdefghijklmn\"\\n10. 다음 리스트에서 \"Apple\" 항목만 삭제하시오.\\n  list = [\"Banana\" , \"Apple\", \"Orange\"]\\n'"
            ],
            "application/vnd.google.colaboratory.intrinsic+json": {
              "type": "string"
            }
          },
          "metadata": {},
          "execution_count": 1
        }
      ],
      "source": [
        "\"\"\"\n",
        "1. 아래 문자열의 길이를 구하시오.\n",
        "    q1 = \"fjdldionelamdmsd'1322qdmfgvfvc'xv-=dfdfdsf\"\n",
        "2. 화면에 기호 * 100개를 표시하시오.\n",
        "3. 문자열 \"30\"을 각각 정수형, 실수형, 복소수형, 문자형으로 변환하시오.\n",
        "4. 다음 문자열 \"Niceyear\"에서 \"year\" 문자열만 추출하시오.\n",
        "    str = \"Niceyear\"\n",
        "5. 다음 문자열을 거꾸로 출력하시오.\n",
        "    str = \"Strawberry\"\n",
        "6. 다음 문자열에서 '-'을 제거 후 출력하시오.\n",
        "    phoneNumber = \"010-5555-9999\"\n",
        "7. 다음 문자열(URL)에서 \"http://\" 부분을 제거 후 출력하시오.\n",
        "  url = \"http://ezenac.co.kr\"\n",
        "8. 다음 문자열을 모두 대문자, 소문자로 각각 출력해 보시오.\n",
        "  str = \"NiceYear\"\n",
        "9. 다음 문자열을 슬라이싱을 이용해서 \"cde\"만 출력하시오.\n",
        "  str = \"abcdefghijklmn\"\n",
        "10. 다음 리스트에서 \"Apple\" 항목만 삭제하시오.\n",
        "  list = [\"Banana\" , \"Apple\", \"Orange\"]\n",
        "\"\"\""
      ]
    },
    {
      "cell_type": "code",
      "source": [
        "# 1. 아래 문자열의 길이를 구하시오.\n",
        "q1 = \"fjdldionelamdmsd'1322qdmfgvfvc'xv-=dfdfdsf\"\n",
        "print(\"문자열 길이 :\", len(q1))"
      ],
      "metadata": {
        "colab": {
          "base_uri": "https://localhost:8080/"
        },
        "id": "hz-tvLxD687p",
        "outputId": "b64ba022-8390-42db-f719-66ef167d2d2a"
      },
      "execution_count": null,
      "outputs": [
        {
          "output_type": "stream",
          "name": "stdout",
          "text": [
            "문자열 길이 : 42\n"
          ]
        }
      ]
    },
    {
      "cell_type": "code",
      "source": [
        "# 2. 화면에 기호 * 100개를 표시하시오.\n",
        "star = \"\"\n",
        "for i in range(100):\n",
        "  star = star + \"*\"\n",
        "print(star)\n",
        "print(\"별 갯수 :\", len(star))"
      ],
      "metadata": {
        "colab": {
          "base_uri": "https://localhost:8080/"
        },
        "id": "hztEA7rl7CUh",
        "outputId": "706eb3ad-98d9-4ca9-a49d-b3cb06df9c9d"
      },
      "execution_count": null,
      "outputs": [
        {
          "output_type": "stream",
          "name": "stdout",
          "text": [
            "****************************************************************************************************\n",
            "별 갯수 : 100\n"
          ]
        }
      ]
    },
    {
      "cell_type": "code",
      "source": [
        "# 3. 문자열 \"30\"을 각각 정수형, 실수형, 복소수형, 문자형으로 변환하시오.\n",
        "thirty = \"30\"\n",
        "print(\"정수형 :\", int(thirty))\n",
        "print(\"실수형 :\", float(thirty))\n",
        "print(\"복소수형 :\", complex(thirty))\n",
        "print(\"문자형 :\", str(thirty))"
      ],
      "metadata": {
        "colab": {
          "base_uri": "https://localhost:8080/"
        },
        "id": "VWERsTPX8djY",
        "outputId": "da3e6930-21bf-44ba-ff02-c5c3bd64ed06"
      },
      "execution_count": null,
      "outputs": [
        {
          "output_type": "stream",
          "name": "stdout",
          "text": [
            "정수형 : 30\n",
            "실수형 : 30.0\n",
            "복소수형 : (30+0j)\n",
            "문자형 : 30\n"
          ]
        }
      ]
    },
    {
      "cell_type": "code",
      "source": [
        "# 4. 다음 문자열 \"Niceyear\"에서 \"year\" 문자열만 추출하시오.\n",
        "fourth = \"Niceyear\"\n",
        "print(fourth[-4:])"
      ],
      "metadata": {
        "colab": {
          "base_uri": "https://localhost:8080/"
        },
        "id": "p6EON2py9LDW",
        "outputId": "c14a1e92-6af0-4cc0-bbcd-b844da019c02"
      },
      "execution_count": null,
      "outputs": [
        {
          "output_type": "stream",
          "name": "stdout",
          "text": [
            "year\n"
          ]
        }
      ]
    },
    {
      "cell_type": "code",
      "source": [
        "# 5. 다음 문자열을 거꾸로 출력하시오.\n",
        "fifth = \"Strawberry\"\n",
        "fifth_list = list(fifth)\n",
        "fifth_list.reverse()\n",
        "fifth = ''.join(fifth_list)\n",
        "print(fifth)"
      ],
      "metadata": {
        "colab": {
          "base_uri": "https://localhost:8080/"
        },
        "id": "h1sgKuTJ-e7Z",
        "outputId": "a764b18a-2df5-4113-b727-62ddace414ac"
      },
      "execution_count": null,
      "outputs": [
        {
          "output_type": "stream",
          "name": "stdout",
          "text": [
            "yrrebwartS\n"
          ]
        }
      ]
    },
    {
      "cell_type": "code",
      "source": [
        "# 6. 다음 문자열에서 '-'을 제거 후 출력하시오.\n",
        "#    phoneNumber = \"010-5555-9999\"\n",
        "phoneNumber = \"010-5555-9999\"\n",
        "print(phoneNumber.strip('-',))"
      ],
      "metadata": {
        "colab": {
          "base_uri": "https://localhost:8080/"
        },
        "id": "CfPBxcoq_BkI",
        "outputId": "8a505d68-9120-4723-e787-acdafc7a64ad"
      },
      "execution_count": null,
      "outputs": [
        {
          "output_type": "stream",
          "name": "stdout",
          "text": [
            "010-5555-9999\n"
          ]
        }
      ]
    },
    {
      "cell_type": "code",
      "source": [
        "# 7. 다음 문자열(URL)에서 \"http://\" 부분을 제거 후 출력하시오.\n",
        "#   url = \"http://ezenac.co.kr\"\n",
        "url = \"http://ezenac.co.kr\"\n",
        "print(url.strip(\"http://\"))"
      ],
      "metadata": {
        "colab": {
          "base_uri": "https://localhost:8080/"
        },
        "id": "Irbj4IX-By_P",
        "outputId": "a8f66f43-6b4e-4038-ec98-377458948f45"
      },
      "execution_count": null,
      "outputs": [
        {
          "output_type": "stream",
          "name": "stdout",
          "text": [
            "ezenac.co.kr\n"
          ]
        }
      ]
    },
    {
      "cell_type": "code",
      "source": [
        "# 8. 다음 문자열을 모두 대문자, 소문자로 각각 출력해 보시오.\n",
        "eighth = \"Strawberry\"\n",
        "print(eighth.upper())\n",
        "print(eighth.lower())\n"
      ],
      "metadata": {
        "id": "U4KhYgs5CIZg",
        "colab": {
          "base_uri": "https://localhost:8080/"
        },
        "outputId": "abbce846-a8e5-4e6e-f5b4-d52a8cfee0da"
      },
      "execution_count": null,
      "outputs": [
        {
          "output_type": "stream",
          "name": "stdout",
          "text": [
            "STRAWBERRY\n",
            "strawberry\n"
          ]
        }
      ]
    },
    {
      "cell_type": "code",
      "source": [
        "# 9. 다음 문자열을 슬라이싱을 이용해서 \"cde\"만 출력하시오.\n",
        "#   str = \"abcdefghijklmn\"\n",
        "ninth = \"abcdefghijklmn\"\n",
        "print(ninth[2:5])"
      ],
      "metadata": {
        "colab": {
          "base_uri": "https://localhost:8080/"
        },
        "id": "MljzodjeTJ8d",
        "outputId": "23f8664c-7ad8-4bc6-b30c-1eb636f6e064"
      },
      "execution_count": null,
      "outputs": [
        {
          "output_type": "stream",
          "name": "stdout",
          "text": [
            "cde\n"
          ]
        }
      ]
    },
    {
      "cell_type": "code",
      "source": [
        "# 10. 다음 리스트에서 \"Apple\" 항목만 삭제하시오.\n",
        "#   list = [\"Banana\" , \"Apple\", \"Orange\"]\n",
        "tenth = [\"Banana\" , \"Apple\", \"Orange\"]\n",
        "del tenth[1]\n",
        "print(tenth)"
      ],
      "metadata": {
        "colab": {
          "base_uri": "https://localhost:8080/"
        },
        "id": "B47Qn-RYTjpS",
        "outputId": "3adfde66-a6f5-44fa-e8c8-ef3cca11521a"
      },
      "execution_count": null,
      "outputs": [
        {
          "output_type": "stream",
          "name": "stdout",
          "text": [
            "['Banana', 'Orange']\n"
          ]
        }
      ]
    },
    {
      "cell_type": "code",
      "source": [],
      "metadata": {
        "id": "Gun56L5VT2j1"
      },
      "execution_count": null,
      "outputs": []
    }
  ]
}